{
 "cells": [
  {
   "cell_type": "code",
   "execution_count": 15,
   "id": "751c80c3",
   "metadata": {},
   "outputs": [],
   "source": [
    "#importing required libraries\n",
    "import pymongo\n",
    "from pymongo import MongoClient"
   ]
  },
  {
   "cell_type": "code",
   "execution_count": 16,
   "id": "5d8d55ae",
   "metadata": {},
   "outputs": [],
   "source": [
    "#connecting to mongo database server\n",
    "client = MongoClient(\"localhost\",27017)"
   ]
  },
  {
   "cell_type": "code",
   "execution_count": 17,
   "id": "6b509993",
   "metadata": {},
   "outputs": [],
   "source": [
    "#creating database \n",
    "#database = client['testDB']\n",
    "#OR\n",
    "database = client.testDB"
   ]
  },
  {
   "cell_type": "code",
   "execution_count": 18,
   "id": "985857a7",
   "metadata": {},
   "outputs": [
    {
     "data": {
      "text/plain": [
       "Database(MongoClient(host=['localhost:27017'], document_class=dict, tz_aware=False, connect=True), 'testDB')"
      ]
     },
     "execution_count": 18,
     "metadata": {},
     "output_type": "execute_result"
    }
   ],
   "source": [
    "database"
   ]
  },
  {
   "cell_type": "code",
   "execution_count": 19,
   "id": "8ea78527",
   "metadata": {},
   "outputs": [],
   "source": [
    "#Creating collection\n",
    "collection = database.testCollection"
   ]
  },
  {
   "cell_type": "code",
   "execution_count": 20,
   "id": "698ac556",
   "metadata": {},
   "outputs": [
    {
     "data": {
      "text/plain": [
       "<pymongo.results.InsertOneResult at 0x26fcde5d130>"
      ]
     },
     "execution_count": 20,
     "metadata": {},
     "output_type": "execute_result"
    }
   ],
   "source": [
    "#Inserting documents \n",
    "collection.insert_one({\"name\":[\"Salma\",\"Soha\"],\n",
    "                      \"day\":[\"Monday\",\"Wednesday\"]\n",
    "                      })"
   ]
  },
  {
   "cell_type": "code",
   "execution_count": 21,
   "id": "856a21bd",
   "metadata": {},
   "outputs": [
    {
     "data": {
      "text/plain": [
       "{'_id': ObjectId('644e4b94b615e5c0c19884ba'),\n",
       " 'name': ['Salma', 'Soha'],\n",
       " 'day': ['Monday', 'Wednesday']}"
      ]
     },
     "execution_count": 21,
     "metadata": {},
     "output_type": "execute_result"
    }
   ],
   "source": [
    "#Read a value\n",
    "collection.find_one()"
   ]
  },
  {
   "cell_type": "code",
   "execution_count": null,
   "id": "a13352e9",
   "metadata": {},
   "outputs": [],
   "source": []
  }
 ],
 "metadata": {
  "kernelspec": {
   "display_name": "Python 3 (ipykernel)",
   "language": "python",
   "name": "python3"
  },
  "language_info": {
   "codemirror_mode": {
    "name": "ipython",
    "version": 3
   },
   "file_extension": ".py",
   "mimetype": "text/x-python",
   "name": "python",
   "nbconvert_exporter": "python",
   "pygments_lexer": "ipython3",
   "version": "3.9.13"
  }
 },
 "nbformat": 4,
 "nbformat_minor": 5
}
